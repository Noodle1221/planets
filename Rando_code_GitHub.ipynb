{
 "cells": [
  {
   "cell_type": "markdown",
   "id": "b93ef267-3410-4149-915f-4e6d13e28471",
   "metadata": {},
   "source": [
    "## I want to play a game..."
   ]
  },
  {
   "cell_type": "code",
   "execution_count": null,
   "id": "e9373a1c-09b0-4868-b5ca-a87152047f15",
   "metadata": {},
   "outputs": [],
   "source": [
    "from random import choice\n",
    "print(\"Will you win the coin flip?\")\n",
    "\n",
    "coin_flip = choice([\"Heads\",\"Tails\"])\n",
    "\n",
    "if coin_flip == \"Heads\":\n",
    "    print(\"You win!\")\n",
    "else:\n",
    "    print(\"You lose!\")"
   ]
  },
  {
   "cell_type": "code",
   "execution_count": null,
   "id": "c647f9f2-023c-477c-9f88-d7d642d60448",
   "metadata": {},
   "outputs": [],
   "source": []
  }
 ],
 "metadata": {
  "kernelspec": {
   "display_name": "Python 3 (ipykernel)",
   "language": "python",
   "name": "python3"
  },
  "language_info": {
   "codemirror_mode": {
    "name": "ipython",
    "version": 3
   },
   "file_extension": ".py",
   "mimetype": "text/x-python",
   "name": "python",
   "nbconvert_exporter": "python",
   "pygments_lexer": "ipython3",
   "version": "3.9.12"
  }
 },
 "nbformat": 4,
 "nbformat_minor": 5
}
