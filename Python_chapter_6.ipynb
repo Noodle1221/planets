{
 "cells": [
  {
   "cell_type": "code",
   "execution_count": null,
   "id": "4779b8d1-117e-47d9-8a4e-d29723828707",
   "metadata": {},
   "outputs": [],
   "source": []
  },
  {
   "cell_type": "code",
   "execution_count": null,
   "id": "08160766-1ffc-46b1-80e4-66267289f06b",
   "metadata": {},
   "outputs": [],
   "source": []
  },
  {
   "cell_type": "code",
   "execution_count": null,
   "id": "dcbe1309-c849-4727-9d30-74f28923cc7b",
   "metadata": {},
   "outputs": [],
   "source": []
  },
  {
   "cell_type": "code",
   "execution_count": null,
   "id": "f0e20a50-0627-4281-a096-7f3e2a5dd2c9",
   "metadata": {},
   "outputs": [],
   "source": []
  },
  {
   "cell_type": "code",
   "execution_count": 1,
   "id": "479cf4d1-8418-46a9-b7ee-f901d3642d3d",
   "metadata": {},
   "outputs": [
    {
     "data": {
      "text/plain": [
       "<function print>"
      ]
     },
     "execution_count": 1,
     "metadata": {},
     "output_type": "execute_result"
    }
   ],
   "source": [
    "print"
   ]
  },
  {
   "cell_type": "code",
   "execution_count": null,
   "id": "713663be-0743-482a-9be8-ad0ceabf3bcc",
   "metadata": {},
   "outputs": [],
   "source": []
  },
  {
   "cell_type": "code",
   "execution_count": null,
   "id": "983755d6-0184-4e8e-86a0-75114583ae72",
   "metadata": {},
   "outputs": [],
   "source": []
  },
  {
   "cell_type": "code",
   "execution_count": null,
   "id": "3511aee6-43f8-4212-a807-7e10bf073107",
   "metadata": {},
   "outputs": [],
   "source": []
  },
  {
   "cell_type": "code",
   "execution_count": 3,
   "id": "8872317c-d90d-4de1-b3ec-ee84ad6abb6c",
   "metadata": {},
   "outputs": [
    {
     "name": "stdout",
     "output_type": "stream",
     "text": [
      "False\n",
      "False\n",
      "False\n",
      "True\n",
      "True\n",
      "True\n",
      "True\n",
      "a < b True\n"
     ]
    }
   ],
   "source": [
    "# equality comparisons\n",
    "print(4 == 5) # is equals\n",
    "print(10 != 10) # not equals\n",
    "# ordingal comparisons\n",
    "print(4 == 5)\n",
    "print(3 < 10)\n",
    "print(3 <= 3)\n",
    "print(4 > 3)\n",
    "print(4 >= 3)\n",
    "print('a < b', 'a' < 'b')"
   ]
  },
  {
   "cell_type": "code",
   "execution_count": 10,
   "id": "c9f59abd-ebc1-4172-b08a-3b7956409915",
   "metadata": {},
   "outputs": [
    {
     "ename": "TypeError",
     "evalue": "'<' not supported between instances of 'str' and 'int'",
     "output_type": "error",
     "traceback": [
      "\u001b[0;31m---------------------------------------------------------------------------\u001b[0m",
      "\u001b[0;31mTypeError\u001b[0m                                 Traceback (most recent call last)",
      "Input \u001b[0;32mIn [10]\u001b[0m, in \u001b[0;36m<cell line: 1>\u001b[0;34m()\u001b[0m\n\u001b[0;32m----> 1\u001b[0m \u001b[38;5;28mprint\u001b[39m(\u001b[38;5;124m\"\u001b[39m\u001b[38;5;124m'\u001b[39m\u001b[38;5;124ma\u001b[39m\u001b[38;5;124m'\u001b[39m\u001b[38;5;124m < 1\u001b[39m\u001b[38;5;124m\"\u001b[39m, \u001b[38;5;124;43m'\u001b[39;49m\u001b[38;5;124;43ma\u001b[39;49m\u001b[38;5;124;43m'\u001b[39;49m\u001b[43m \u001b[49m\u001b[38;5;241;43m<\u001b[39;49m\u001b[43m \u001b[49m\u001b[38;5;241;43m1\u001b[39;49m)\n",
      "\u001b[0;31mTypeError\u001b[0m: '<' not supported between instances of 'str' and 'int'"
     ]
    }
   ],
   "source": [
    "print(\"'a' < 1\", 'a' < 1)"
   ]
  },
  {
   "cell_type": "code",
   "execution_count": 8,
   "id": "3b1d1e4a-6aa0-43dc-9874-42f8c61f227e",
   "metadata": {},
   "outputs": [
    {
     "name": "stdout",
     "output_type": "stream",
     "text": [
      "3.0 == 3 True\n"
     ]
    }
   ],
   "source": [
    "print('3.0 == 3', 3.0 == 3)"
   ]
  },
  {
   "cell_type": "code",
   "execution_count": 12,
   "id": "7b6952ce-c432-4f0c-8585-c084754c5221",
   "metadata": {},
   "outputs": [
    {
     "name": "stdout",
     "output_type": "stream",
     "text": [
      "'3' == 3 False\n"
     ]
    }
   ],
   "source": [
    "print(\"'3' == 3\", '3' == 3)"
   ]
  },
  {
   "cell_type": "code",
   "execution_count": 14,
   "id": "a2e5e9ec-a8e7-41d1-a45a-0f3bdc9b6a36",
   "metadata": {},
   "outputs": [
    {
     "name": "stdout",
     "output_type": "stream",
     "text": [
      "int('3') == 3 True\n"
     ]
    }
   ],
   "source": [
    "print(\"int('3') == 3\", int('3') == 3)"
   ]
  },
  {
   "cell_type": "code",
   "execution_count": 16,
   "id": "81350e61-ad81-43ba-8cbc-9b716b30c96e",
   "metadata": {},
   "outputs": [
    {
     "name": "stdout",
     "output_type": "stream",
     "text": [
      "True\n"
     ]
    }
   ],
   "source": [
    "print(\"ATGCTT\".startswith(\"ATG\"))"
   ]
  },
  {
   "cell_type": "code",
   "execution_count": 17,
   "id": "09c84e27-b305-47a2-8dc8-c9e2114f5854",
   "metadata": {},
   "outputs": [
    {
     "name": "stdout",
     "output_type": "stream",
     "text": [
      "True\n"
     ]
    }
   ],
   "source": [
    "print(\"ATGCTT\".isupper())"
   ]
  },
  {
   "cell_type": "code",
   "execution_count": 18,
   "id": "a391901b-0574-400b-aafa-9989440ec1b3",
   "metadata": {},
   "outputs": [
    {
     "name": "stdout",
     "output_type": "stream",
     "text": [
      "False\n"
     ]
    }
   ],
   "source": [
    "print(\"ATGCTT\".islower())"
   ]
  },
  {
   "cell_type": "code",
   "execution_count": 23,
   "id": "cd1e7cbf-310f-4307-b9c1-3be14d473b6a",
   "metadata": {},
   "outputs": [
    {
     "name": "stdout",
     "output_type": "stream",
     "text": [
      "\"V\" in [\"V\", \"W\", \"L\"] True\n"
     ]
    }
   ],
   "source": [
    "print('\"V\" in [\"V\", \"W\", \"L\"]', \"V\" in [\"V\", \"W\", \"L\"])"
   ]
  },
  {
   "cell_type": "code",
   "execution_count": 25,
   "id": "2b44b2e2-3442-4710-b462-a5dce91c3c4d",
   "metadata": {},
   "outputs": [
    {
     "name": "stdout",
     "output_type": "stream",
     "text": [
      "False\n"
     ]
    }
   ],
   "source": [
    "val1 = 3\n",
    "val2 = 3.0\n",
    "print(val1 is val2)"
   ]
  },
  {
   "cell_type": "code",
   "execution_count": 26,
   "id": "6ecbcacc-ba70-42a7-b6f1-31032f460572",
   "metadata": {},
   "outputs": [
    {
     "name": "stdout",
     "output_type": "stream",
     "text": [
      "True\n"
     ]
    }
   ],
   "source": [
    "val1 = 3\n",
    "val2 = 3.0\n",
    "print(val1 is not val2)"
   ]
  },
  {
   "cell_type": "code",
   "execution_count": 27,
   "id": "ed5a4388-acdd-4569-9123-3b1b19d6f194",
   "metadata": {},
   "outputs": [
    {
     "name": "stdout",
     "output_type": "stream",
     "text": [
      "True\n"
     ]
    }
   ],
   "source": [
    "val1 = 3\n",
    "print(val1 < 5 and val1 > 2)"
   ]
  },
  {
   "cell_type": "code",
   "execution_count": 30,
   "id": "840fe646-ed80-4bed-9e8f-60b76328b45d",
   "metadata": {},
   "outputs": [
    {
     "name": "stdout",
     "output_type": "stream",
     "text": [
      "True\n",
      "True\n"
     ]
    }
   ],
   "source": [
    "# Boolean algebra operators\n",
    "# and\n",
    "print(val1 < 5 and val1 > 2)\n",
    "# or\n",
    "print(val1 > 10 or val1 < 5)"
   ]
  },
  {
   "cell_type": "code",
   "execution_count": 32,
   "id": "d528b729-47ce-4b53-8e89-f192eee01e40",
   "metadata": {},
   "outputs": [
    {
     "name": "stdout",
     "output_type": "stream",
     "text": [
      "False\n",
      "True\n",
      "False\n"
     ]
    }
   ],
   "source": [
    "# more Boolean operators\n",
    "val1 = True\n",
    "print(not val1)\n",
    "print(not (not val1))\n",
    "print(not 3 < 5)"
   ]
  },
  {
   "cell_type": "code",
   "execution_count": null,
   "id": "405bf147-533f-41f6-b562-0c234592ef63",
   "metadata": {},
   "outputs": [],
   "source": []
  },
  {
   "cell_type": "code",
   "execution_count": 37,
   "id": "12331ce6-c376-4602-9abc-66733fbc4318",
   "metadata": {},
   "outputs": [
    {
     "name": "stdout",
     "output_type": "stream",
     "text": [
      "False\n"
     ]
    }
   ],
   "source": [
    "val1 = 5\n",
    "val2 = 10\n",
    "print(val1 < 5 and (val2 > 10 or val2 < 3))\n",
    "# BODMAS -> brackets compares 'truth' of second part to truth of first part! i.e. order matters!"
   ]
  },
  {
   "cell_type": "markdown",
   "id": "1fa924cd-af13-45b4-8f75-acef252f75f9",
   "metadata": {},
   "source": [
    "## Boolean statements NEED a value!"
   ]
  },
  {
   "cell_type": "markdown",
   "id": "cb651fc3-666b-4246-b487-bc9422e331d7",
   "metadata": {},
   "source": [
    "### Conditional Statements"
   ]
  },
  {
   "cell_type": "code",
   "execution_count": 36,
   "id": "d8dd4c7f-36ac-4b2c-a2ca-fd152e4b841e",
   "metadata": {},
   "outputs": [
    {
     "name": "stdout",
     "output_type": "stream",
     "text": [
      "gene is highly expressed\n"
     ]
    }
   ],
   "source": [
    "gene_expression_level = 125\n",
    "if gene_expression_level > 100:\n",
    "    print(\"gene is highly expressed\")"
   ]
  },
  {
   "cell_type": "code",
   "execution_count": 39,
   "id": "06cb850e-3e3d-4e8b-bc98-9f422be3c172",
   "metadata": {},
   "outputs": [
    {
     "ename": "SyntaxError",
     "evalue": "invalid syntax (2245300164.py, line 2)",
     "output_type": "error",
     "traceback": [
      "\u001b[0;36m  Input \u001b[0;32mIn [39]\u001b[0;36m\u001b[0m\n\u001b[0;31m    for accession in accs\u001b[0m\n\u001b[0m                         ^\u001b[0m\n\u001b[0;31mSyntaxError\u001b[0m\u001b[0;31m:\u001b[0m invalid syntax\n"
     ]
    }
   ],
   "source": [
    "accs = ['ab56', 'bh84', 'hv76', 'ay93', 'ap97', 'bd72']\n",
    "for accession in accs"
   ]
  },
  {
   "cell_type": "code",
   "execution_count": 41,
   "id": "6a57d69b-a405-42fb-97ca-08bb524b5470",
   "metadata": {},
   "outputs": [
    {
     "name": "stdout",
     "output_type": "stream",
     "text": [
      "0\n",
      "0\n",
      "1\n",
      "1\n",
      "3\n",
      "True\n",
      "False\n"
     ]
    }
   ],
   "source": [
    "# module in maths\n",
    "print(4 % 2)\n",
    "print(6 % 3)\n",
    "print(5 % 2)\n",
    "# otherwise known as remainder operator\n",
    "print(10 % 3)\n",
    "print(10 % 7)\n",
    "# is even\n",
    "print((4 % 2) == 0)\n",
    "print((5 % 2) == 0)"
   ]
  },
  {
   "cell_type": "code",
   "execution_count": 42,
   "id": "7bd6340c-ebd0-4250-9692-97a89dd42576",
   "metadata": {},
   "outputs": [],
   "source": [
    "def iseven(number):\n",
    "    return (number % 2) == 0"
   ]
  },
  {
   "cell_type": "code",
   "execution_count": 43,
   "id": "0ebb0662-7ec1-433a-bd9e-109418c922fc",
   "metadata": {},
   "outputs": [
    {
     "name": "stdout",
     "output_type": "stream",
     "text": [
      "30\n"
     ]
    }
   ],
   "source": [
    "# add up all the even numbers\n",
    "mylist = [1,2,3,4,5,6,7,8,9,10]\n",
    "total = 0\n",
    "for number in mylist:\n",
    "    if iseven (number):\n",
    "        total = total + number\n",
    "print(total)"
   ]
  },
  {
   "cell_type": "code",
   "execution_count": 44,
   "id": "a5e605eb-c41a-4f9f-a737-b17366d66e72",
   "metadata": {},
   "outputs": [
    {
     "name": "stdout",
     "output_type": "stream",
     "text": [
      "30\n"
     ]
    },
    {
     "ename": "AssertionError",
     "evalue": "",
     "output_type": "error",
     "traceback": [
      "\u001b[0;31m---------------------------------------------------------------------------\u001b[0m",
      "\u001b[0;31mAssertionError\u001b[0m                            Traceback (most recent call last)",
      "Input \u001b[0;32mIn [44]\u001b[0m, in \u001b[0;36m<cell line: 11>\u001b[0;34m()\u001b[0m\n\u001b[1;32m      9\u001b[0m     \u001b[38;5;28;01mreturn\u001b[39;00m total\n\u001b[1;32m     10\u001b[0m \u001b[38;5;28mprint\u001b[39m(add_evens(mylist))\n\u001b[0;32m---> 11\u001b[0m \u001b[38;5;28;01massert\u001b[39;00m add_evens([\u001b[38;5;241m1\u001b[39m,\u001b[38;5;241m2\u001b[39m,\u001b[38;5;241m3\u001b[39m,\u001b[38;5;241m4\u001b[39m]) \u001b[38;5;241m==\u001b[39m \u001b[38;5;241m6\u001b[39m\n",
      "\u001b[0;31mAssertionError\u001b[0m: "
     ]
    }
   ],
   "source": [
    "mylist = [1,2,3,4,5,6,7,8,9,10]\n",
    "\n",
    "def add_evens(number_list):\n",
    "    #add up all the even numbers\n",
    "    total = 0\n",
    "    for number in mylist:\n",
    "        if iseven (number):\n",
    "            total = total + number\n",
    "    return total\n",
    "print(add_evens(mylist))\n",
    "assert add_evens([1,2,3,4]) == 6 # assert that running add_evens(...)"
   ]
  },
  {
   "cell_type": "code",
   "execution_count": 3,
   "id": "fed05cd8-2bce-4eff-8a29-a9221d681220",
   "metadata": {},
   "outputs": [
    {
     "name": "stdout",
     "output_type": "stream",
     "text": [
      "this gene is not highly expressed\n"
     ]
    }
   ],
   "source": [
    "gene_expression = 80\n",
    "if gene_expression > 100:\n",
    "    print(\"this gene is highly expressed\")\n",
    "else:\n",
    "    print(\"this gene is not highly expressed\")"
   ]
  },
  {
   "cell_type": "code",
   "execution_count": 46,
   "id": "ce5bbde7-c07c-49e4-891c-7ef9fd289f3b",
   "metadata": {},
   "outputs": [
    {
     "name": "stdout",
     "output_type": "stream",
     "text": [
      "this gene is highly expressed\n",
      "this gene is not highly expressed\n"
     ]
    }
   ],
   "source": [
    "def check_expression(expression_level):\n",
    "    if expression_level > 100:\n",
    "        print(\"this gene is highly expressed\")\n",
    "    else:\n",
    "        print(\"this gene is not highly expressed\")\n",
    "\n",
    "gene_expression = 125\n",
    "check_expression(gene_expression)\n",
    "gene_expression = 80\n",
    "check_expression(gene_expression)"
   ]
  },
  {
   "cell_type": "code",
   "execution_count": 50,
   "id": "feb9106f-9e24-478d-ac47-eddcc1195f8b",
   "metadata": {},
   "outputs": [
    {
     "name": "stdout",
     "output_type": "stream",
     "text": [
      "this gene is highly expressed\n",
      "this gene is not highly expressed\n"
     ]
    }
   ],
   "source": [
    "def check_expression(expression_level, level=100):\n",
    "    if expression_level > level:\n",
    "        print(\"this gene is highly expressed\")\n",
    "    else:\n",
    "        print(\"this gene is not highly expressed\")\n",
    "\n",
    "gene_expression = 125\n",
    "check_expression(gene_expression)\n",
    "gene_expression = 80\n",
    "check_expression(gene_expression)"
   ]
  },
  {
   "cell_type": "code",
   "execution_count": 52,
   "id": "967ba444-a232-4621-8d32-42418370eabf",
   "metadata": {},
   "outputs": [
    {
     "name": "stdout",
     "output_type": "stream",
     "text": [
      "this gene is highly expressed\n",
      "this gene is moderately expressed\n",
      "this gene is expressed at a low level\n"
     ]
    }
   ],
   "source": [
    "def check_expression(expression_level):\n",
    "    if expression_level > 100:\n",
    "        print(\"this gene is highly expressed\")\n",
    "    elif expression_level > 80:\n",
    "        print(\"this gene is moderately expressed\")\n",
    "    else:\n",
    "        print(\"this gene is expressed at a low level\")\n",
    "        \n",
    "check_expression(125)\n",
    "check_expression(90)\n",
    "check_expression(50)"
   ]
  },
  {
   "cell_type": "code",
   "execution_count": 4,
   "id": "d6f46b00-a509-474b-b7da-2653539509a3",
   "metadata": {},
   "outputs": [
    {
     "name": "stdout",
     "output_type": "stream",
     "text": [
      "Hello world\n"
     ]
    }
   ],
   "source": [
    "print(\"Hello world\")"
   ]
  }
 ],
 "metadata": {
  "kernelspec": {
   "display_name": "Python 3 (ipykernel)",
   "language": "python",
   "name": "python3"
  },
  "language_info": {
   "codemirror_mode": {
    "name": "ipython",
    "version": 3
   },
   "file_extension": ".py",
   "mimetype": "text/x-python",
   "name": "python",
   "nbconvert_exporter": "python",
   "pygments_lexer": "ipython3",
   "version": "3.9.12"
  }
 },
 "nbformat": 4,
 "nbformat_minor": 5
}
